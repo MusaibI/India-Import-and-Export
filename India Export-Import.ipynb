{
 "cells": [
  {
   "cell_type": "code",
   "execution_count": 1,
   "id": "b8fa9cb8",
   "metadata": {},
   "outputs": [],
   "source": [
    "import pandas as pd\n",
    "import numpy as np\n"
   ]
  },
  {
   "cell_type": "code",
   "execution_count": 2,
   "id": "94512a57",
   "metadata": {},
   "outputs": [],
   "source": [
    "export=pd.read_csv('d:/DATA SETS/2018-2010_export.csv') #Reading csv file into a variable"
   ]
  },
  {
   "cell_type": "code",
   "execution_count": 3,
   "id": "fffe25aa",
   "metadata": {},
   "outputs": [
    {
     "data": {
      "text/html": [
       "<div>\n",
       "<style scoped>\n",
       "    .dataframe tbody tr th:only-of-type {\n",
       "        vertical-align: middle;\n",
       "    }\n",
       "\n",
       "    .dataframe tbody tr th {\n",
       "        vertical-align: top;\n",
       "    }\n",
       "\n",
       "    .dataframe thead th {\n",
       "        text-align: right;\n",
       "    }\n",
       "</style>\n",
       "<table border=\"1\" class=\"dataframe\">\n",
       "  <thead>\n",
       "    <tr style=\"text-align: right;\">\n",
       "      <th></th>\n",
       "      <th>HSCode</th>\n",
       "      <th>Commodity</th>\n",
       "      <th>value</th>\n",
       "      <th>country</th>\n",
       "      <th>year</th>\n",
       "    </tr>\n",
       "  </thead>\n",
       "  <tbody>\n",
       "    <tr>\n",
       "      <th>0</th>\n",
       "      <td>2</td>\n",
       "      <td>MEAT AND EDIBLE MEAT OFFAL.</td>\n",
       "      <td>0.18</td>\n",
       "      <td>AFGHANISTAN TIS</td>\n",
       "      <td>2018</td>\n",
       "    </tr>\n",
       "    <tr>\n",
       "      <th>1</th>\n",
       "      <td>3</td>\n",
       "      <td>FISH AND CRUSTACEANS, MOLLUSCS AND OTHER AQUAT...</td>\n",
       "      <td>0.00</td>\n",
       "      <td>AFGHANISTAN TIS</td>\n",
       "      <td>2018</td>\n",
       "    </tr>\n",
       "    <tr>\n",
       "      <th>2</th>\n",
       "      <td>4</td>\n",
       "      <td>DAIRY PRODUCE; BIRDS' EGGS; NATURAL HONEY; EDI...</td>\n",
       "      <td>12.48</td>\n",
       "      <td>AFGHANISTAN TIS</td>\n",
       "      <td>2018</td>\n",
       "    </tr>\n",
       "    <tr>\n",
       "      <th>3</th>\n",
       "      <td>6</td>\n",
       "      <td>LIVE TREES AND OTHER PLANTS; BULBS; ROOTS AND ...</td>\n",
       "      <td>0.00</td>\n",
       "      <td>AFGHANISTAN TIS</td>\n",
       "      <td>2018</td>\n",
       "    </tr>\n",
       "    <tr>\n",
       "      <th>4</th>\n",
       "      <td>7</td>\n",
       "      <td>EDIBLE VEGETABLES AND CERTAIN ROOTS AND TUBERS.</td>\n",
       "      <td>1.89</td>\n",
       "      <td>AFGHANISTAN TIS</td>\n",
       "      <td>2018</td>\n",
       "    </tr>\n",
       "  </tbody>\n",
       "</table>\n",
       "</div>"
      ],
      "text/plain": [
       "   HSCode                                          Commodity  value  \\\n",
       "0       2                        MEAT AND EDIBLE MEAT OFFAL.   0.18   \n",
       "1       3  FISH AND CRUSTACEANS, MOLLUSCS AND OTHER AQUAT...   0.00   \n",
       "2       4  DAIRY PRODUCE; BIRDS' EGGS; NATURAL HONEY; EDI...  12.48   \n",
       "3       6  LIVE TREES AND OTHER PLANTS; BULBS; ROOTS AND ...   0.00   \n",
       "4       7    EDIBLE VEGETABLES AND CERTAIN ROOTS AND TUBERS.   1.89   \n",
       "\n",
       "           country  year  \n",
       "0  AFGHANISTAN TIS  2018  \n",
       "1  AFGHANISTAN TIS  2018  \n",
       "2  AFGHANISTAN TIS  2018  \n",
       "3  AFGHANISTAN TIS  2018  \n",
       "4  AFGHANISTAN TIS  2018  "
      ]
     },
     "execution_count": 3,
     "metadata": {},
     "output_type": "execute_result"
    }
   ],
   "source": [
    "export.head()  # Viewing only the top 5 entries"
   ]
  },
  {
   "cell_type": "code",
   "execution_count": 4,
   "id": "85e9a6b6",
   "metadata": {},
   "outputs": [],
   "source": [
    "export.rename(columns={'value':'value(million US$)'},inplace=True) #renaming the column name value to values(US$)"
   ]
  },
  {
   "cell_type": "code",
   "execution_count": 5,
   "id": "d459c713",
   "metadata": {},
   "outputs": [
    {
     "data": {
      "text/html": [
       "<div>\n",
       "<style scoped>\n",
       "    .dataframe tbody tr th:only-of-type {\n",
       "        vertical-align: middle;\n",
       "    }\n",
       "\n",
       "    .dataframe tbody tr th {\n",
       "        vertical-align: top;\n",
       "    }\n",
       "\n",
       "    .dataframe thead th {\n",
       "        text-align: right;\n",
       "    }\n",
       "</style>\n",
       "<table border=\"1\" class=\"dataframe\">\n",
       "  <thead>\n",
       "    <tr style=\"text-align: right;\">\n",
       "      <th></th>\n",
       "      <th>HSCode</th>\n",
       "      <th>Commodity</th>\n",
       "      <th>value(million US$)</th>\n",
       "      <th>country</th>\n",
       "      <th>year</th>\n",
       "    </tr>\n",
       "  </thead>\n",
       "  <tbody>\n",
       "    <tr>\n",
       "      <th>0</th>\n",
       "      <td>2</td>\n",
       "      <td>MEAT AND EDIBLE MEAT OFFAL.</td>\n",
       "      <td>0.18</td>\n",
       "      <td>AFGHANISTAN TIS</td>\n",
       "      <td>2018</td>\n",
       "    </tr>\n",
       "    <tr>\n",
       "      <th>1</th>\n",
       "      <td>3</td>\n",
       "      <td>FISH AND CRUSTACEANS, MOLLUSCS AND OTHER AQUAT...</td>\n",
       "      <td>0.00</td>\n",
       "      <td>AFGHANISTAN TIS</td>\n",
       "      <td>2018</td>\n",
       "    </tr>\n",
       "    <tr>\n",
       "      <th>2</th>\n",
       "      <td>4</td>\n",
       "      <td>DAIRY PRODUCE; BIRDS' EGGS; NATURAL HONEY; EDI...</td>\n",
       "      <td>12.48</td>\n",
       "      <td>AFGHANISTAN TIS</td>\n",
       "      <td>2018</td>\n",
       "    </tr>\n",
       "    <tr>\n",
       "      <th>3</th>\n",
       "      <td>6</td>\n",
       "      <td>LIVE TREES AND OTHER PLANTS; BULBS; ROOTS AND ...</td>\n",
       "      <td>0.00</td>\n",
       "      <td>AFGHANISTAN TIS</td>\n",
       "      <td>2018</td>\n",
       "    </tr>\n",
       "    <tr>\n",
       "      <th>4</th>\n",
       "      <td>7</td>\n",
       "      <td>EDIBLE VEGETABLES AND CERTAIN ROOTS AND TUBERS.</td>\n",
       "      <td>1.89</td>\n",
       "      <td>AFGHANISTAN TIS</td>\n",
       "      <td>2018</td>\n",
       "    </tr>\n",
       "  </tbody>\n",
       "</table>\n",
       "</div>"
      ],
      "text/plain": [
       "   HSCode                                          Commodity  \\\n",
       "0       2                        MEAT AND EDIBLE MEAT OFFAL.   \n",
       "1       3  FISH AND CRUSTACEANS, MOLLUSCS AND OTHER AQUAT...   \n",
       "2       4  DAIRY PRODUCE; BIRDS' EGGS; NATURAL HONEY; EDI...   \n",
       "3       6  LIVE TREES AND OTHER PLANTS; BULBS; ROOTS AND ...   \n",
       "4       7    EDIBLE VEGETABLES AND CERTAIN ROOTS AND TUBERS.   \n",
       "\n",
       "   value(million US$)          country  year  \n",
       "0                0.18  AFGHANISTAN TIS  2018  \n",
       "1                0.00  AFGHANISTAN TIS  2018  \n",
       "2               12.48  AFGHANISTAN TIS  2018  \n",
       "3                0.00  AFGHANISTAN TIS  2018  \n",
       "4                1.89  AFGHANISTAN TIS  2018  "
      ]
     },
     "execution_count": 5,
     "metadata": {},
     "output_type": "execute_result"
    }
   ],
   "source": [
    "export.head()"
   ]
  },
  {
   "cell_type": "code",
   "execution_count": 93,
   "id": "c050893a",
   "metadata": {},
   "outputs": [
    {
     "name": "stdout",
     "output_type": "stream",
     "text": [
      "122985\n"
     ]
    }
   ],
   "source": [
    "print(len(export))  # Checking no.of rows in the table"
   ]
  },
  {
   "cell_type": "code",
   "execution_count": 7,
   "id": "8f5b5a8f",
   "metadata": {},
   "outputs": [
    {
     "name": "stdout",
     "output_type": "stream",
     "text": [
      "<class 'pandas.core.frame.DataFrame'>\n",
      "RangeIndex: 137023 entries, 0 to 137022\n",
      "Data columns (total 5 columns):\n",
      " #   Column              Non-Null Count   Dtype  \n",
      "---  ------              --------------   -----  \n",
      " 0   HSCode              137023 non-null  int64  \n",
      " 1   Commodity           137023 non-null  object \n",
      " 2   value(million US$)  122985 non-null  float64\n",
      " 3   country             137023 non-null  object \n",
      " 4   year                137023 non-null  int64  \n",
      "dtypes: float64(1), int64(2), object(2)\n",
      "memory usage: 5.2+ MB\n"
     ]
    }
   ],
   "source": [
    "export.info()  "
   ]
  },
  {
   "cell_type": "code",
   "execution_count": 94,
   "id": "79ddd9ec",
   "metadata": {},
   "outputs": [
    {
     "name": "stdout",
     "output_type": "stream",
     "text": [
      "HSCode                0\n",
      "Commodity             0\n",
      "value(million US$)    0\n",
      "country               0\n",
      "year                  0\n",
      "dtype: int64\n"
     ]
    }
   ],
   "source": [
    "print(export.isna().sum()) # Total no.of null values in columns"
   ]
  },
  {
   "cell_type": "markdown",
   "id": "d858cdf4",
   "metadata": {},
   "source": [
    "#### Only values column has null values"
   ]
  },
  {
   "cell_type": "code",
   "execution_count": 9,
   "id": "591ded2e",
   "metadata": {},
   "outputs": [
    {
     "data": {
      "text/html": [
       "<div>\n",
       "<style scoped>\n",
       "    .dataframe tbody tr th:only-of-type {\n",
       "        vertical-align: middle;\n",
       "    }\n",
       "\n",
       "    .dataframe tbody tr th {\n",
       "        vertical-align: top;\n",
       "    }\n",
       "\n",
       "    .dataframe thead th {\n",
       "        text-align: right;\n",
       "    }\n",
       "</style>\n",
       "<table border=\"1\" class=\"dataframe\">\n",
       "  <thead>\n",
       "    <tr style=\"text-align: right;\">\n",
       "      <th></th>\n",
       "      <th>HSCode</th>\n",
       "      <th>Commodity</th>\n",
       "      <th>value(million US$)</th>\n",
       "      <th>country</th>\n",
       "      <th>year</th>\n",
       "    </tr>\n",
       "  </thead>\n",
       "  <tbody>\n",
       "    <tr>\n",
       "      <th>11</th>\n",
       "      <td>14</td>\n",
       "      <td>VEGETABLE PLAITING MATERIALS; VEGETABLE PRODUC...</td>\n",
       "      <td>NaN</td>\n",
       "      <td>AFGHANISTAN TIS</td>\n",
       "      <td>2018</td>\n",
       "    </tr>\n",
       "    <tr>\n",
       "      <th>36</th>\n",
       "      <td>41</td>\n",
       "      <td>RAW HIDES AND SKINS (OTHER THAN FURSKINS) AND ...</td>\n",
       "      <td>NaN</td>\n",
       "      <td>AFGHANISTAN TIS</td>\n",
       "      <td>2018</td>\n",
       "    </tr>\n",
       "    <tr>\n",
       "      <th>44</th>\n",
       "      <td>53</td>\n",
       "      <td>OTHER VEGETABLE TEXTILE FIBRES; PAPER YARN AND...</td>\n",
       "      <td>NaN</td>\n",
       "      <td>AFGHANISTAN TIS</td>\n",
       "      <td>2018</td>\n",
       "    </tr>\n",
       "    <tr>\n",
       "      <th>57</th>\n",
       "      <td>66</td>\n",
       "      <td>UMBRELLAS, SUN UMBRELLAS, WALKING-STICKS, SEAT...</td>\n",
       "      <td>NaN</td>\n",
       "      <td>AFGHANISTAN TIS</td>\n",
       "      <td>2018</td>\n",
       "    </tr>\n",
       "    <tr>\n",
       "      <th>68</th>\n",
       "      <td>79</td>\n",
       "      <td>ZINC AND ARTICLES THEREOF.</td>\n",
       "      <td>NaN</td>\n",
       "      <td>AFGHANISTAN TIS</td>\n",
       "      <td>2018</td>\n",
       "    </tr>\n",
       "    <tr>\n",
       "      <th>...</th>\n",
       "      <td>...</td>\n",
       "      <td>...</td>\n",
       "      <td>...</td>\n",
       "      <td>...</td>\n",
       "      <td>...</td>\n",
       "    </tr>\n",
       "    <tr>\n",
       "      <th>136940</th>\n",
       "      <td>93</td>\n",
       "      <td>ARMS AND AMMUNITION; PARTS AND ACCESSORIES THE...</td>\n",
       "      <td>NaN</td>\n",
       "      <td>ZAMBIA</td>\n",
       "      <td>2010</td>\n",
       "    </tr>\n",
       "    <tr>\n",
       "      <th>136948</th>\n",
       "      <td>6</td>\n",
       "      <td>LIVE TREES AND OTHER PLANTS; BULBS; ROOTS AND ...</td>\n",
       "      <td>NaN</td>\n",
       "      <td>ZIMBABWE</td>\n",
       "      <td>2010</td>\n",
       "    </tr>\n",
       "    <tr>\n",
       "      <th>136987</th>\n",
       "      <td>57</td>\n",
       "      <td>CARPETS AND OTHER TEXTILE FLOOR COVERINGS.</td>\n",
       "      <td>NaN</td>\n",
       "      <td>ZIMBABWE</td>\n",
       "      <td>2010</td>\n",
       "    </tr>\n",
       "    <tr>\n",
       "      <th>137013</th>\n",
       "      <td>89</td>\n",
       "      <td>SHIPS, BOATS AND FLOATING STRUCTURES.</td>\n",
       "      <td>NaN</td>\n",
       "      <td>ZIMBABWE</td>\n",
       "      <td>2010</td>\n",
       "    </tr>\n",
       "    <tr>\n",
       "      <th>137016</th>\n",
       "      <td>92</td>\n",
       "      <td>MUSICAL INSTRUMENTS; PARTS AND ACCESSORIES OF ...</td>\n",
       "      <td>NaN</td>\n",
       "      <td>ZIMBABWE</td>\n",
       "      <td>2010</td>\n",
       "    </tr>\n",
       "  </tbody>\n",
       "</table>\n",
       "<p>14038 rows × 5 columns</p>\n",
       "</div>"
      ],
      "text/plain": [
       "        HSCode                                          Commodity  \\\n",
       "11          14  VEGETABLE PLAITING MATERIALS; VEGETABLE PRODUC...   \n",
       "36          41  RAW HIDES AND SKINS (OTHER THAN FURSKINS) AND ...   \n",
       "44          53  OTHER VEGETABLE TEXTILE FIBRES; PAPER YARN AND...   \n",
       "57          66  UMBRELLAS, SUN UMBRELLAS, WALKING-STICKS, SEAT...   \n",
       "68          79                         ZINC AND ARTICLES THEREOF.   \n",
       "...        ...                                                ...   \n",
       "136940      93  ARMS AND AMMUNITION; PARTS AND ACCESSORIES THE...   \n",
       "136948       6  LIVE TREES AND OTHER PLANTS; BULBS; ROOTS AND ...   \n",
       "136987      57         CARPETS AND OTHER TEXTILE FLOOR COVERINGS.   \n",
       "137013      89              SHIPS, BOATS AND FLOATING STRUCTURES.   \n",
       "137016      92  MUSICAL INSTRUMENTS; PARTS AND ACCESSORIES OF ...   \n",
       "\n",
       "        value(million US$)          country  year  \n",
       "11                     NaN  AFGHANISTAN TIS  2018  \n",
       "36                     NaN  AFGHANISTAN TIS  2018  \n",
       "44                     NaN  AFGHANISTAN TIS  2018  \n",
       "57                     NaN  AFGHANISTAN TIS  2018  \n",
       "68                     NaN  AFGHANISTAN TIS  2018  \n",
       "...                    ...              ...   ...  \n",
       "136940                 NaN           ZAMBIA  2010  \n",
       "136948                 NaN         ZIMBABWE  2010  \n",
       "136987                 NaN         ZIMBABWE  2010  \n",
       "137013                 NaN         ZIMBABWE  2010  \n",
       "137016                 NaN         ZIMBABWE  2010  \n",
       "\n",
       "[14038 rows x 5 columns]"
      ]
     },
     "execution_count": 9,
     "metadata": {},
     "output_type": "execute_result"
    }
   ],
   "source": [
    "export[export['value(million US$)'].isna()] # Viewing nly those record having null value"
   ]
  },
  {
   "cell_type": "code",
   "execution_count": 10,
   "id": "4265fe30",
   "metadata": {},
   "outputs": [],
   "source": [
    "export.dropna(inplace=True) # droping of those records with null value in it"
   ]
  },
  {
   "cell_type": "code",
   "execution_count": 11,
   "id": "3661e2eb",
   "metadata": {},
   "outputs": [
    {
     "name": "stdout",
     "output_type": "stream",
     "text": [
      "<class 'pandas.core.frame.DataFrame'>\n",
      "Int64Index: 122985 entries, 0 to 137022\n",
      "Data columns (total 5 columns):\n",
      " #   Column              Non-Null Count   Dtype  \n",
      "---  ------              --------------   -----  \n",
      " 0   HSCode              122985 non-null  int64  \n",
      " 1   Commodity           122985 non-null  object \n",
      " 2   value(million US$)  122985 non-null  float64\n",
      " 3   country             122985 non-null  object \n",
      " 4   year                122985 non-null  int64  \n",
      "dtypes: float64(1), int64(2), object(2)\n",
      "memory usage: 5.6+ MB\n"
     ]
    }
   ],
   "source": [
    "export.info()"
   ]
  },
  {
   "cell_type": "code",
   "execution_count": 95,
   "id": "77992c0f",
   "metadata": {},
   "outputs": [
    {
     "name": "stdout",
     "output_type": "stream",
     "text": [
      "count    122985.000000\n",
      "mean         21.567829\n",
      "std         229.701279\n",
      "min           0.000000\n",
      "25%           0.030000\n",
      "50%           0.360000\n",
      "75%           3.770000\n",
      "max       19805.170000\n",
      "Name: value(million US$), dtype: float64\n"
     ]
    }
   ],
   "source": [
    "print(export['value(million US$)'].describe())"
   ]
  },
  {
   "cell_type": "code",
   "execution_count": 96,
   "id": "132b5ffb",
   "metadata": {},
   "outputs": [
    {
     "name": "stdout",
     "output_type": "stream",
     "text": [
      "2652519.4699999993\n"
     ]
    }
   ],
   "source": [
    "print(export['value(million US$)'].sum())"
   ]
  },
  {
   "cell_type": "markdown",
   "id": "efa366bc",
   "metadata": {},
   "source": [
    "### Observation:- India has Exported around 2.652 trillion US dollers from the year 2010-2018"
   ]
  },
  {
   "cell_type": "code",
   "execution_count": 97,
   "id": "17a526c4",
   "metadata": {},
   "outputs": [
    {
     "name": "stdout",
     "output_type": "stream",
     "text": [
      "122985\n"
     ]
    }
   ],
   "source": [
    "print(len(export))"
   ]
  },
  {
   "cell_type": "code",
   "execution_count": 98,
   "id": "ed301fdb",
   "metadata": {},
   "outputs": [
    {
     "name": "stdout",
     "output_type": "stream",
     "text": [
      "248\n"
     ]
    }
   ],
   "source": [
    "print(len(export['country'].unique()))"
   ]
  },
  {
   "cell_type": "markdown",
   "id": "03fa4c29",
   "metadata": {},
   "source": [
    "### Observation:- India has Exported to 248 different places \n"
   ]
  },
  {
   "cell_type": "code",
   "execution_count": 99,
   "id": "7d4ea7fb",
   "metadata": {},
   "outputs": [
    {
     "name": "stdout",
     "output_type": "stream",
     "text": [
      "GUERNSEY                                     1\n",
      "JERSEY                                       1\n",
      "SINT MAARTEN (DUTCH PART)                    2\n",
      "CURACAO                                      2\n",
      "INSTALLATIONS IN INTERNATIONAL WATERS        3\n",
      "CHANNEL IS                                   4\n",
      "FR S ANT TR                                  5\n",
      "PACIFIC IS                                   5\n",
      "FALKLAND IS                                  7\n",
      "NIUE IS                                      7\n",
      "COCOS IS                                     9\n",
      "HEARD MACDONALD                              9\n",
      "VATICAN CITY                                11\n",
      "CANARY IS                                   11\n",
      "NEUTRAL ZONE                                12\n",
      "CHRISTMAS IS.                               14\n",
      "TOKELAU IS                                  15\n",
      "ST PIERRE                                   15\n",
      "SAHARWI A.DM RP                             16\n",
      "PITCAIRN IS.                                17\n",
      "Name: country, dtype: int64\n"
     ]
    }
   ],
   "source": [
    "print(export['country'].value_counts().sort_values().head(20))"
   ]
  },
  {
   "cell_type": "markdown",
   "id": "6181f054",
   "metadata": {},
   "source": [
    "### Obsevation:- India has exported least to GUERNSEY, then to JERSEY"
   ]
  },
  {
   "cell_type": "code",
   "execution_count": 100,
   "id": "fabf3077",
   "metadata": {},
   "outputs": [
    {
     "name": "stdout",
     "output_type": "stream",
     "text": [
      "U ARAB EMTS      882\n",
      "NEPAL            877\n",
      "U S A            875\n",
      "MALAYSIA         873\n",
      "U K              872\n",
      "GERMANY          871\n",
      "SINGAPORE        868\n",
      "SRI LANKA DSR    867\n",
      "SOUTH AFRICA     864\n",
      "BANGLADESH PR    864\n",
      "SAUDI ARAB       863\n",
      "AUSTRALIA        861\n",
      "CANADA           857\n",
      "NETHERLAND       857\n",
      "OMAN             855\n",
      "CHINA P RP       853\n",
      "FRANCE           852\n",
      "KUWAIT           851\n",
      "KENYA            846\n",
      "ITALY            846\n",
      "Name: country, dtype: int64\n"
     ]
    }
   ],
   "source": [
    "print(export['country'].value_counts().sort_values(ascending=False).head(20))"
   ]
  },
  {
   "cell_type": "markdown",
   "id": "488dd743",
   "metadata": {},
   "source": [
    "### Observation:- Most of the Exports of India are to UAE, then to Nepal"
   ]
  },
  {
   "cell_type": "code",
   "execution_count": 101,
   "id": "afae7860",
   "metadata": {},
   "outputs": [
    {
     "name": "stdout",
     "output_type": "stream",
     "text": [
      "country\n",
      "U S A              360609.57\n",
      "U ARAB EMTS        289374.88\n",
      "CHINA P RP         121806.00\n",
      "HONG KONG          115693.35\n",
      "SINGAPORE          101679.70\n",
      "U K                 79942.61\n",
      "GERMANY             68855.45\n",
      "NETHERLAND          66581.17\n",
      "SAUDI ARAB          65995.99\n",
      "UNSPECIFIED         62259.89\n",
      "BANGLADESH PR       55472.64\n",
      "BELGIUM             53969.10\n",
      "VIETNAM SOC REP     48409.36\n",
      "JAPAN               47822.15\n",
      "FRANCE              44833.10\n",
      "ITALY               44593.43\n",
      "MALAYSIA            43377.70\n",
      "INDONESIA           42148.84\n",
      "SRI LANKA DSR       41516.39\n",
      "NEPAL               39861.83\n",
      "Name: value(million US$), dtype: float64\n"
     ]
    }
   ],
   "source": [
    "print(export.groupby('country')['value(million US$)'].sum().sort_values(ascending=False).head(20))"
   ]
  },
  {
   "cell_type": "markdown",
   "id": "323e9401",
   "metadata": {},
   "source": [
    "### Observation1:- Most of Exports(monetary value) is from USA followed by UAE\n",
    "\n",
    "### Observation2:- Even thogh India has exported less to China but the Revenue generated is more that means India has exported valuable items(costly) to China\n",
    "\n",
    "### Observation3:-India has exported more to Nepal but on the list of revenue it is not seen,we can conclude by saying cheap items are exported to Nepal\n",
    "\n",
    "### Observation4:- Hong Kong is not in the list of most exports but have appeard in the list of most export in monetary value"
   ]
  },
  {
   "cell_type": "code",
   "execution_count": 102,
   "id": "e740908e",
   "metadata": {},
   "outputs": [
    {
     "name": "stdout",
     "output_type": "stream",
     "text": [
      "2018    14357\n",
      "2017    14043\n",
      "2013    13727\n",
      "2016    13700\n",
      "2015    13686\n",
      "2014    13681\n",
      "2012    13461\n",
      "2011    13365\n",
      "2010    12965\n",
      "Name: year, dtype: int64\n"
     ]
    }
   ],
   "source": [
    "print(export['year'].value_counts())"
   ]
  },
  {
   "cell_type": "markdown",
   "id": "114e58e6",
   "metadata": {},
   "source": [
    "### Observation:- Indain Exports have exponentially increased over the years\n"
   ]
  },
  {
   "cell_type": "code",
   "execution_count": 103,
   "id": "1db1be1c",
   "metadata": {},
   "outputs": [
    {
     "name": "stdout",
     "output_type": "stream",
     "text": [
      "year\n",
      "2010    249801.18\n",
      "2011    305948.28\n",
      "2012    300384.32\n",
      "2013    314388.61\n",
      "2014    310321.02\n",
      "2015    262274.30\n",
      "2016    275835.27\n",
      "2017    303507.85\n",
      "2018    330058.64\n",
      "Name: value(million US$), dtype: float64\n"
     ]
    }
   ],
   "source": [
    "print(export.groupby('year')['value(million US$)'].sum())"
   ]
  },
  {
   "cell_type": "markdown",
   "id": "bc32e06c",
   "metadata": {},
   "source": [
    "### Observation:- Even though the export increased exo\\ports increased but revenue generated has fallen down from 2013 to 2017"
   ]
  },
  {
   "cell_type": "markdown",
   "id": "74a0ff7c",
   "metadata": {},
   "source": [
    "# "
   ]
  },
  {
   "cell_type": "markdown",
   "id": "3be75a67",
   "metadata": {},
   "source": [
    "# "
   ]
  },
  {
   "cell_type": "markdown",
   "id": "16b44298",
   "metadata": {},
   "source": [
    "# IMPORTS"
   ]
  },
  {
   "cell_type": "code",
   "execution_count": 21,
   "id": "66291308",
   "metadata": {},
   "outputs": [],
   "source": [
    "Import=pd.read_csv('d:DATA SETS/2018-2010_import.csv')"
   ]
  },
  {
   "cell_type": "code",
   "execution_count": 104,
   "id": "9568c479",
   "metadata": {},
   "outputs": [
    {
     "name": "stdout",
     "output_type": "stream",
     "text": [
      "   HSCode                                          Commodity   value  \\\n",
      "0       5  PRODUCTS OF ANIMAL ORIGIN, NOT ELSEWHERE SPECI...    0.00   \n",
      "1       7    EDIBLE VEGETABLES AND CERTAIN ROOTS AND TUBERS.   12.38   \n",
      "2       8  EDIBLE FRUIT AND NUTS; PEEL OR CITRUS FRUIT OR...  268.60   \n",
      "3       9                      COFFEE, TEA, MATE AND SPICES.   35.48   \n",
      "5      12  OIL SEEDS AND OLEA. FRUITS; MISC. GRAINS, SEED...    8.32   \n",
      "\n",
      "           country  year  \n",
      "0  AFGHANISTAN TIS  2018  \n",
      "1  AFGHANISTAN TIS  2018  \n",
      "2  AFGHANISTAN TIS  2018  \n",
      "3  AFGHANISTAN TIS  2018  \n",
      "5  AFGHANISTAN TIS  2018  \n"
     ]
    }
   ],
   "source": [
    "print(Import.head())"
   ]
  },
  {
   "cell_type": "code",
   "execution_count": 23,
   "id": "97633b28",
   "metadata": {},
   "outputs": [
    {
     "name": "stdout",
     "output_type": "stream",
     "text": [
      "<class 'pandas.core.frame.DataFrame'>\n",
      "RangeIndex: 76124 entries, 0 to 76123\n",
      "Data columns (total 5 columns):\n",
      " #   Column     Non-Null Count  Dtype  \n",
      "---  ------     --------------  -----  \n",
      " 0   HSCode     76124 non-null  int64  \n",
      " 1   Commodity  76124 non-null  object \n",
      " 2   value      64536 non-null  float64\n",
      " 3   country    76124 non-null  object \n",
      " 4   year       76124 non-null  int64  \n",
      "dtypes: float64(1), int64(2), object(2)\n",
      "memory usage: 2.9+ MB\n"
     ]
    }
   ],
   "source": [
    "Import.info()"
   ]
  },
  {
   "cell_type": "code",
   "execution_count": 105,
   "id": "24659140",
   "metadata": {},
   "outputs": [
    {
     "name": "stdout",
     "output_type": "stream",
     "text": [
      "HSCode       0\n",
      "Commodity    0\n",
      "value        0\n",
      "country      0\n",
      "year         0\n",
      "dtype: int64\n"
     ]
    }
   ],
   "source": [
    "print(Import.isnull().sum())"
   ]
  },
  {
   "cell_type": "code",
   "execution_count": 25,
   "id": "34f7197c",
   "metadata": {},
   "outputs": [],
   "source": [
    "a=Import[Import['country']==\"AFGHANISTAN TIS\"]"
   ]
  },
  {
   "cell_type": "code",
   "execution_count": 106,
   "id": "60a2659e",
   "metadata": {},
   "outputs": [
    {
     "name": "stdout",
     "output_type": "stream",
     "text": [
      "year\n",
      "2010     6\n",
      "2011    10\n",
      "2012    14\n",
      "2013    17\n",
      "2014    21\n",
      "2015    12\n",
      "2016     8\n",
      "2017     7\n",
      "2018     7\n",
      "dtype: int64\n"
     ]
    }
   ],
   "source": [
    "print(a[a['value'].isna()].groupby('year').size())"
   ]
  },
  {
   "cell_type": "code",
   "execution_count": 107,
   "id": "dca09038",
   "metadata": {},
   "outputs": [
    {
     "name": "stdout",
     "output_type": "stream",
     "text": [
      "year\n",
      "2010    29\n",
      "2011    36\n",
      "2012    39\n",
      "2013    50\n",
      "2014    41\n",
      "2015    58\n",
      "2016    28\n",
      "2017    24\n",
      "2018    29\n",
      "dtype: int64\n"
     ]
    }
   ],
   "source": [
    "print(a.groupby('year').size())"
   ]
  },
  {
   "cell_type": "code",
   "execution_count": 28,
   "id": "ea5c8eb9",
   "metadata": {},
   "outputs": [],
   "source": [
    "Import.dropna(inplace=True)"
   ]
  },
  {
   "cell_type": "code",
   "execution_count": 29,
   "id": "6422eed1",
   "metadata": {},
   "outputs": [
    {
     "name": "stdout",
     "output_type": "stream",
     "text": [
      "<class 'pandas.core.frame.DataFrame'>\n",
      "Int64Index: 64536 entries, 0 to 76120\n",
      "Data columns (total 5 columns):\n",
      " #   Column     Non-Null Count  Dtype  \n",
      "---  ------     --------------  -----  \n",
      " 0   HSCode     64536 non-null  int64  \n",
      " 1   Commodity  64536 non-null  object \n",
      " 2   value      64536 non-null  float64\n",
      " 3   country    64536 non-null  object \n",
      " 4   year       64536 non-null  int64  \n",
      "dtypes: float64(1), int64(2), object(2)\n",
      "memory usage: 3.0+ MB\n"
     ]
    }
   ],
   "source": [
    "Import.info()"
   ]
  },
  {
   "cell_type": "code",
   "execution_count": 108,
   "id": "a1fb9be1",
   "metadata": {},
   "outputs": [
    {
     "name": "stdout",
     "output_type": "stream",
     "text": [
      "64536\n"
     ]
    }
   ],
   "source": [
    "print(len(Import))"
   ]
  },
  {
   "cell_type": "code",
   "execution_count": 109,
   "id": "7f124b8d",
   "metadata": {},
   "outputs": [
    {
     "name": "stdout",
     "output_type": "stream",
     "text": [
      "4024556.9200000004\n"
     ]
    }
   ],
   "source": [
    "print(Import['value'].sum())"
   ]
  },
  {
   "cell_type": "markdown",
   "id": "99c19f0d",
   "metadata": {},
   "source": [
    "### Observation1:-India has Imported around 4 triilion US doller worth products\n",
    "### Observation2:- India has Imported almost double the Export. That means India is in Trade Deficit\n"
   ]
  },
  {
   "cell_type": "code",
   "execution_count": 110,
   "id": "8a44b438",
   "metadata": {},
   "outputs": [
    {
     "name": "stdout",
     "output_type": "stream",
     "text": [
      "241\n"
     ]
    }
   ],
   "source": [
    "print(len(Import['country'].unique()))"
   ]
  },
  {
   "cell_type": "markdown",
   "id": "a4dd5b2f",
   "metadata": {},
   "source": [
    "### Observation:- India has imported from 241 countries"
   ]
  },
  {
   "cell_type": "code",
   "execution_count": 111,
   "id": "a87bcda4",
   "metadata": {},
   "outputs": [
    {
     "name": "stdout",
     "output_type": "stream",
     "text": [
      "PACIFIC IS         1\n",
      "JERSEY             1\n",
      "HEARD MACDONALD    2\n",
      "MICRONESIA         2\n",
      "STATE OF PALEST    2\n",
      "GUERNSEY           3\n",
      "FR S ANT TR        4\n",
      "PANAMA C Z         4\n",
      "MAYOTTE            4\n",
      "MONTSERRAT         5\n",
      "ST VINCENT         5\n",
      "ST PIERRE          6\n",
      "GUAM               6\n",
      "KIRIBATI REP       7\n",
      "SOUTH SUDAN        7\n",
      "N. MARIANA IS.     8\n",
      "COOK IS            8\n",
      "GIBRALTAR          9\n",
      "VATICAN CITY       9\n",
      "PITCAIRN IS.       9\n",
      "Name: country, dtype: int64\n"
     ]
    }
   ],
   "source": [
    "print(Import['country'].value_counts().sort_values().head(20))"
   ]
  },
  {
   "cell_type": "markdown",
   "id": "5f21d204",
   "metadata": {},
   "source": [
    "### Observation:- India has almost same countries to whom it has exported or imported the least"
   ]
  },
  {
   "cell_type": "code",
   "execution_count": 112,
   "id": "f950430c",
   "metadata": {},
   "outputs": [
    {
     "name": "stdout",
     "output_type": "stream",
     "text": [
      "BELGIUM        914\n",
      "AUSTRALIA      887\n",
      "U S A          875\n",
      "ITALY          868\n",
      "CHINA P RP     865\n",
      "GERMANY        865\n",
      "U K            862\n",
      "FRANCE         856\n",
      "THAILAND       844\n",
      "SPAIN          838\n",
      "SINGAPORE      836\n",
      "NETHERLAND     833\n",
      "U ARAB EMTS    832\n",
      "JAPAN          827\n",
      "KOREA RP       817\n",
      "MALAYSIA       813\n",
      "BRAZIL         805\n",
      "AUSTRIA        803\n",
      "CANADA         799\n",
      "TAIWAN         782\n",
      "Name: country, dtype: int64\n"
     ]
    }
   ],
   "source": [
    "print(Import['country'].value_counts().sort_values(ascending=False).head(20))"
   ]
  },
  {
   "cell_type": "markdown",
   "id": "9525dac8",
   "metadata": {},
   "source": [
    "### Oservation:- Indias has imported most to BELGIUM and then AUSTRALIA"
   ]
  },
  {
   "cell_type": "code",
   "execution_count": 113,
   "id": "130e1fd6",
   "metadata": {},
   "outputs": [
    {
     "name": "stdout",
     "output_type": "stream",
     "text": [
      "country\n",
      "CHINA P RP     532177.51\n",
      "U ARAB EMTS    256286.08\n",
      "SAUDI ARAB     241554.99\n",
      "U S A          219276.66\n",
      "SWITZERLAND    206729.03\n",
      "IRAQ           142476.32\n",
      "INDONESIA      128164.40\n",
      "KOREA RP       121143.58\n",
      "GERMANY        119664.64\n",
      "AUSTRALIA      115598.98\n",
      "NIGERIA        103406.98\n",
      "QATAR          101540.83\n",
      "KUWAIT          97905.36\n",
      "IRAN            96997.19\n",
      "JAPAN           96004.66\n",
      "BELGIUM         90213.86\n",
      "MALAYSIA        84142.18\n",
      "HONG KONG       83542.74\n",
      "VENEZUELA       76003.71\n",
      "SINGAPORE       75043.09\n",
      "Name: value, dtype: float64\n"
     ]
    }
   ],
   "source": [
    "print(Import.groupby('country')['value'].sum().sort_values(ascending=False).head(20))"
   ]
  },
  {
   "cell_type": "markdown",
   "id": "a160a13e",
   "metadata": {},
   "source": [
    "### Observation:- India is in Trade deficit with most of the countries(top). That is the reason why India's Imports are almost double of their Exports\n",
    "\n",
    "### Observation:- With China India has the huge,Deficit Imports are around 500 Biilion and Exports are around 121 Billion..\n",
    "\n",
    "Observatio`"
   ]
  },
  {
   "cell_type": "code",
   "execution_count": 114,
   "id": "87bc020e",
   "metadata": {},
   "outputs": [
    {
     "name": "stdout",
     "output_type": "stream",
     "text": [
      "865\n"
     ]
    }
   ],
   "source": [
    "print(len(Import[Import['country']=='CHINA P RP']))"
   ]
  },
  {
   "cell_type": "code",
   "execution_count": 116,
   "id": "78ad2be5",
   "metadata": {},
   "outputs": [
    {
     "name": "stdout",
     "output_type": "stream",
     "text": [
      "853\n"
     ]
    }
   ],
   "source": [
    "print(len(export[export['country']=='CHINA P RP']))"
   ]
  },
  {
   "cell_type": "code",
   "execution_count": 117,
   "id": "b5bfebe7",
   "metadata": {},
   "outputs": [
    {
     "name": "stdout",
     "output_type": "stream",
     "text": [
      "2010    7162\n",
      "2011    7313\n",
      "2012    6923\n",
      "2013    6857\n",
      "2014    6954\n",
      "2015    7811\n",
      "2016    6984\n",
      "2017    7146\n",
      "2018    7386\n",
      "Name: year, dtype: int64\n"
     ]
    }
   ],
   "source": [
    "print(Import['year'].value_counts().sort_index())"
   ]
  },
  {
   "cell_type": "code",
   "execution_count": 118,
   "id": "1ed9abbe",
   "metadata": {},
   "outputs": [
    {
     "name": "stdout",
     "output_type": "stream",
     "text": [
      "year\n",
      "2010    369762.25\n",
      "2011    489311.81\n",
      "2012    490730.07\n",
      "2013    450192.99\n",
      "2014    448026.63\n",
      "2015    412537.53\n",
      "2016    384350.29\n",
      "2017    465574.02\n",
      "2018    514071.33\n",
      "Name: value, dtype: float64\n"
     ]
    }
   ],
   "source": [
    "print(Import.groupby('year')['value'].sum())"
   ]
  },
  {
   "cell_type": "code",
   "execution_count": null,
   "id": "0027d373",
   "metadata": {},
   "outputs": [],
   "source": []
  },
  {
   "cell_type": "markdown",
   "id": "437b4fee",
   "metadata": {},
   "source": [
    "## Visualization"
   ]
  },
  {
   "cell_type": "code",
   "execution_count": 58,
   "id": "af51b320",
   "metadata": {},
   "outputs": [],
   "source": [
    "import matplotlib.pyplot as plt\n",
    "import seaborn as sns"
   ]
  },
  {
   "cell_type": "code",
   "execution_count": 43,
   "id": "5d40e047",
   "metadata": {},
   "outputs": [],
   "source": [
    "exp=pd.DataFrame(export.groupby('year').size()) # Making dataframe for no of exports per Year\n",
    "imp=pd.DataFrame(Import.groupby('year').size()) # Making DataFrame for no of imports per Year"
   ]
  },
  {
   "cell_type": "code",
   "execution_count": 120,
   "id": "3ca785d9",
   "metadata": {},
   "outputs": [
    {
     "name": "stdout",
     "output_type": "stream",
     "text": [
      "   Year  Exports\n",
      "0  2010    12965\n",
      "1  2011    13365\n",
      "2  2012    13461\n",
      "3  2013    13727\n",
      "4  2014    13681\n",
      "5  2015    13686\n",
      "6  2016    13700\n",
      "7  2017    14043\n",
      "8  2018    14357\n"
     ]
    }
   ],
   "source": [
    "print(exp)  # Printing the resultant DataFrames)"
   ]
  },
  {
   "cell_type": "code",
   "execution_count": 121,
   "id": "d47617d0",
   "metadata": {},
   "outputs": [
    {
     "name": "stdout",
     "output_type": "stream",
     "text": [
      "   Year  Imports\n",
      "0  2010     7162\n",
      "1  2011     7313\n",
      "2  2012     6923\n",
      "3  2013     6857\n",
      "4  2014     6954\n",
      "5  2015     7811\n",
      "6  2016     6984\n",
      "7  2017     7146\n",
      "8  2018     7386\n"
     ]
    }
   ],
   "source": [
    "print(imp)"
   ]
  },
  {
   "cell_type": "code",
   "execution_count": 49,
   "id": "fd689db3",
   "metadata": {},
   "outputs": [],
   "source": [
    "exp.reset_index(inplace=True) # Reseting the idex to default\n",
    "imp.reset_index(inplace=True)"
   ]
  },
  {
   "cell_type": "code",
   "execution_count": 51,
   "id": "2ed6fa69",
   "metadata": {},
   "outputs": [],
   "source": [
    "exp.columns=['Year','Exports']  # Reanaming of columns\n",
    "imp.columns=['Year','Imports']"
   ]
  },
  {
   "cell_type": "code",
   "execution_count": 53,
   "id": "0044aada",
   "metadata": {},
   "outputs": [],
   "source": [
    "Overall=pd.merge(exp,imp,on='Year')  #Merging of DataFrames on Years column"
   ]
  },
  {
   "cell_type": "code",
   "execution_count": 122,
   "id": "3075392c",
   "metadata": {},
   "outputs": [
    {
     "name": "stdout",
     "output_type": "stream",
     "text": [
      "   Year  Exports  Imports\n",
      "0  2010    12965     7162\n",
      "1  2011    13365     7313\n",
      "2  2012    13461     6923\n",
      "3  2013    13727     6857\n",
      "4  2014    13681     6954\n",
      "5  2015    13686     7811\n",
      "6  2016    13700     6984\n",
      "7  2017    14043     7146\n",
      "8  2018    14357     7386\n"
     ]
    }
   ],
   "source": [
    "print(Overall)"
   ]
  },
  {
   "cell_type": "code",
   "execution_count": 67,
   "id": "16df4978",
   "metadata": {},
   "outputs": [
    {
     "data": {
      "image/png": "[encoded data removed]",
      "text/plain": [
       "<Figure size 648x504 with 1 Axes>"
      ]
     },
     "metadata": {
      "needs_background": "light"
     },
     "output_type": "display_data"
    }
   ],
   "source": [
    "plt.figure(figsize=(9,7))\n",
    "export.groupby('year').size().plot(color='g',linewidth=3)\n",
    "plt.title('Exports from Year 2010 to 2018',color='c')\n",
    "plt.grid()\n",
    "plt.xlabel('Years',fontsize=12,color='g')\n",
    "plt.ylabel('No of exports',fontsize=12,color='g')\n",
    "plt.show()\n"
   ]
  },
  {
   "cell_type": "code",
   "execution_count": 61,
   "id": "6b476ee1",
   "metadata": {},
   "outputs": [
    {
     "data": {
      "image/png": "[encoded data removed]",
      "text/plain": [
       "<Figure size 648x504 with 1 Axes>"
      ]
     },
     "metadata": {
      "needs_background": "light"
     },
     "output_type": "display_data"
    }
   ],
   "source": [
    "plt.figure(figsize=(9,7))\n",
    "Import.groupby('year').size().plot(linewidth=3,color='r')\n",
    "plt.title('Imports from year 2010 to 2018')\n",
    "plt.ylabel('No of Imports ')\n",
    "plt.xlabel('Years')\n",
    "plt.grid()\n",
    "plt.show()"
   ]
  },
  {
   "cell_type": "code",
   "execution_count": 91,
   "id": "3482c5d9",
   "metadata": {},
   "outputs": [
    {
     "data": {
      "text/plain": [
       "<Figure size 720x504 with 0 Axes>"
      ]
     },
     "metadata": {},
     "output_type": "display_data"
    },
    {
     "data": {
      "image/png": "[encoded data removed]",
      "text/plain": [
       "<Figure size 432x288 with 1 Axes>"
      ]
     },
     "metadata": {
      "needs_background": "light"
     },
     "output_type": "display_data"
    }
   ],
   "source": [
    "plt.figure(figsize=(10,7))\n",
    "Overall.plot(x='Year',stacked=False,kind='bar',width=0.9) #Comparision of Imports and Exports\n",
    "plt.ylabel('Counts',color='g',fontsize=12)\n",
    "plt.xlabel('Years',fontsize=12,color='g')\n",
    "plt.title('IMPORTS vs EXPORTS')\n",
    "plt.show()\n"
   ]
  },
  {
   "cell_type": "code",
   "execution_count": 72,
   "id": "a930f9f3",
   "metadata": {},
   "outputs": [],
   "source": [
    "exp_sum=pd.DataFrame(export.groupby('year')['value(million US$)'].sum())\n",
    "imp_sum=pd.DataFrame(Import.groupby('year')['value'].sum())"
   ]
  },
  {
   "cell_type": "code",
   "execution_count": 73,
   "id": "e4e99b73",
   "metadata": {},
   "outputs": [
    {
     "data": {
      "text/html": [
       "<div>\n",
       "<style scoped>\n",
       "    .dataframe tbody tr th:only-of-type {\n",
       "        vertical-align: middle;\n",
       "    }\n",
       "\n",
       "    .dataframe tbody tr th {\n",
       "        vertical-align: top;\n",
       "    }\n",
       "\n",
       "    .dataframe thead th {\n",
       "        text-align: right;\n",
       "    }\n",
       "</style>\n",
       "<table border=\"1\" class=\"dataframe\">\n",
       "  <thead>\n",
       "    <tr style=\"text-align: right;\">\n",
       "      <th></th>\n",
       "      <th>value(million US$)</th>\n",
       "    </tr>\n",
       "    <tr>\n",
       "      <th>year</th>\n",
       "      <th></th>\n",
       "    </tr>\n",
       "  </thead>\n",
       "  <tbody>\n",
       "    <tr>\n",
       "      <th>2010</th>\n",
       "      <td>249801.18</td>\n",
       "    </tr>\n",
       "    <tr>\n",
       "      <th>2011</th>\n",
       "      <td>305948.28</td>\n",
       "    </tr>\n",
       "    <tr>\n",
       "      <th>2012</th>\n",
       "      <td>300384.32</td>\n",
       "    </tr>\n",
       "    <tr>\n",
       "      <th>2013</th>\n",
       "      <td>314388.61</td>\n",
       "    </tr>\n",
       "    <tr>\n",
       "      <th>2014</th>\n",
       "      <td>310321.02</td>\n",
       "    </tr>\n",
       "    <tr>\n",
       "      <th>2015</th>\n",
       "      <td>262274.30</td>\n",
       "    </tr>\n",
       "    <tr>\n",
       "      <th>2016</th>\n",
       "      <td>275835.27</td>\n",
       "    </tr>\n",
       "    <tr>\n",
       "      <th>2017</th>\n",
       "      <td>303507.85</td>\n",
       "    </tr>\n",
       "    <tr>\n",
       "      <th>2018</th>\n",
       "      <td>330058.64</td>\n",
       "    </tr>\n",
       "  </tbody>\n",
       "</table>\n",
       "</div>"
      ],
      "text/plain": [
       "      value(million US$)\n",
       "year                    \n",
       "2010           249801.18\n",
       "2011           305948.28\n",
       "2012           300384.32\n",
       "2013           314388.61\n",
       "2014           310321.02\n",
       "2015           262274.30\n",
       "2016           275835.27\n",
       "2017           303507.85\n",
       "2018           330058.64"
      ]
     },
     "execution_count": 73,
     "metadata": {},
     "output_type": "execute_result"
    }
   ],
   "source": [
    "exp_sum"
   ]
  },
  {
   "cell_type": "code",
   "execution_count": 74,
   "id": "e80147ab",
   "metadata": {},
   "outputs": [
    {
     "data": {
      "text/html": [
       "<div>\n",
       "<style scoped>\n",
       "    .dataframe tbody tr th:only-of-type {\n",
       "        vertical-align: middle;\n",
       "    }\n",
       "\n",
       "    .dataframe tbody tr th {\n",
       "        vertical-align: top;\n",
       "    }\n",
       "\n",
       "    .dataframe thead th {\n",
       "        text-align: right;\n",
       "    }\n",
       "</style>\n",
       "<table border=\"1\" class=\"dataframe\">\n",
       "  <thead>\n",
       "    <tr style=\"text-align: right;\">\n",
       "      <th></th>\n",
       "      <th>value</th>\n",
       "    </tr>\n",
       "    <tr>\n",
       "      <th>year</th>\n",
       "      <th></th>\n",
       "    </tr>\n",
       "  </thead>\n",
       "  <tbody>\n",
       "    <tr>\n",
       "      <th>2010</th>\n",
       "      <td>369762.25</td>\n",
       "    </tr>\n",
       "    <tr>\n",
       "      <th>2011</th>\n",
       "      <td>489311.81</td>\n",
       "    </tr>\n",
       "    <tr>\n",
       "      <th>2012</th>\n",
       "      <td>490730.07</td>\n",
       "    </tr>\n",
       "    <tr>\n",
       "      <th>2013</th>\n",
       "      <td>450192.99</td>\n",
       "    </tr>\n",
       "    <tr>\n",
       "      <th>2014</th>\n",
       "      <td>448026.63</td>\n",
       "    </tr>\n",
       "    <tr>\n",
       "      <th>2015</th>\n",
       "      <td>412537.53</td>\n",
       "    </tr>\n",
       "    <tr>\n",
       "      <th>2016</th>\n",
       "      <td>384350.29</td>\n",
       "    </tr>\n",
       "    <tr>\n",
       "      <th>2017</th>\n",
       "      <td>465574.02</td>\n",
       "    </tr>\n",
       "    <tr>\n",
       "      <th>2018</th>\n",
       "      <td>514071.33</td>\n",
       "    </tr>\n",
       "  </tbody>\n",
       "</table>\n",
       "</div>"
      ],
      "text/plain": [
       "          value\n",
       "year           \n",
       "2010  369762.25\n",
       "2011  489311.81\n",
       "2012  490730.07\n",
       "2013  450192.99\n",
       "2014  448026.63\n",
       "2015  412537.53\n",
       "2016  384350.29\n",
       "2017  465574.02\n",
       "2018  514071.33"
      ]
     },
     "execution_count": 74,
     "metadata": {},
     "output_type": "execute_result"
    }
   ],
   "source": [
    "imp_sum"
   ]
  },
  {
   "cell_type": "code",
   "execution_count": 76,
   "id": "9093dfe6",
   "metadata": {},
   "outputs": [],
   "source": [
    "exp_sum.reset_index(inplace=True)\n",
    "imp_sum.reset_index(inplace=True)"
   ]
  },
  {
   "cell_type": "code",
   "execution_count": 77,
   "id": "e93dea21",
   "metadata": {},
   "outputs": [],
   "source": [
    "exp_sum.columns=['Year','Sum of Exports']\n",
    "imp_sum.columns=['Year','Sum of Imports']"
   ]
  },
  {
   "cell_type": "code",
   "execution_count": 79,
   "id": "456c8034",
   "metadata": {},
   "outputs": [],
   "source": [
    "total_trade=pd.merge(exp_sum,imp_sum,on='Year')"
   ]
  },
  {
   "cell_type": "code",
   "execution_count": 80,
   "id": "952f1823",
   "metadata": {},
   "outputs": [
    {
     "data": {
      "text/html": [
       "<div>\n",
       "<style scoped>\n",
       "    .dataframe tbody tr th:only-of-type {\n",
       "        vertical-align: middle;\n",
       "    }\n",
       "\n",
       "    .dataframe tbody tr th {\n",
       "        vertical-align: top;\n",
       "    }\n",
       "\n",
       "    .dataframe thead th {\n",
       "        text-align: right;\n",
       "    }\n",
       "</style>\n",
       "<table border=\"1\" class=\"dataframe\">\n",
       "  <thead>\n",
       "    <tr style=\"text-align: right;\">\n",
       "      <th></th>\n",
       "      <th>Year</th>\n",
       "      <th>Sum of Exports</th>\n",
       "      <th>Sum of Imports</th>\n",
       "    </tr>\n",
       "  </thead>\n",
       "  <tbody>\n",
       "    <tr>\n",
       "      <th>0</th>\n",
       "      <td>2010</td>\n",
       "      <td>249801.18</td>\n",
       "      <td>369762.25</td>\n",
       "    </tr>\n",
       "    <tr>\n",
       "      <th>1</th>\n",
       "      <td>2011</td>\n",
       "      <td>305948.28</td>\n",
       "      <td>489311.81</td>\n",
       "    </tr>\n",
       "    <tr>\n",
       "      <th>2</th>\n",
       "      <td>2012</td>\n",
       "      <td>300384.32</td>\n",
       "      <td>490730.07</td>\n",
       "    </tr>\n",
       "    <tr>\n",
       "      <th>3</th>\n",
       "      <td>2013</td>\n",
       "      <td>314388.61</td>\n",
       "      <td>450192.99</td>\n",
       "    </tr>\n",
       "    <tr>\n",
       "      <th>4</th>\n",
       "      <td>2014</td>\n",
       "      <td>310321.02</td>\n",
       "      <td>448026.63</td>\n",
       "    </tr>\n",
       "    <tr>\n",
       "      <th>5</th>\n",
       "      <td>2015</td>\n",
       "      <td>262274.30</td>\n",
       "      <td>412537.53</td>\n",
       "    </tr>\n",
       "    <tr>\n",
       "      <th>6</th>\n",
       "      <td>2016</td>\n",
       "      <td>275835.27</td>\n",
       "      <td>384350.29</td>\n",
       "    </tr>\n",
       "    <tr>\n",
       "      <th>7</th>\n",
       "      <td>2017</td>\n",
       "      <td>303507.85</td>\n",
       "      <td>465574.02</td>\n",
       "    </tr>\n",
       "    <tr>\n",
       "      <th>8</th>\n",
       "      <td>2018</td>\n",
       "      <td>330058.64</td>\n",
       "      <td>514071.33</td>\n",
       "    </tr>\n",
       "  </tbody>\n",
       "</table>\n",
       "</div>"
      ],
      "text/plain": [
       "   Year  Sum of Exports  Sum of Imports\n",
       "0  2010       249801.18       369762.25\n",
       "1  2011       305948.28       489311.81\n",
       "2  2012       300384.32       490730.07\n",
       "3  2013       314388.61       450192.99\n",
       "4  2014       310321.02       448026.63\n",
       "5  2015       262274.30       412537.53\n",
       "6  2016       275835.27       384350.29\n",
       "7  2017       303507.85       465574.02\n",
       "8  2018       330058.64       514071.33"
      ]
     },
     "execution_count": 80,
     "metadata": {},
     "output_type": "execute_result"
    }
   ],
   "source": [
    "total_trade"
   ]
  },
  {
   "cell_type": "code",
   "execution_count": 92,
   "id": "da5d8c53",
   "metadata": {},
   "outputs": [
    {
     "data": {
      "text/plain": [
       "<Figure size 720x576 with 0 Axes>"
      ]
     },
     "metadata": {},
     "output_type": "display_data"
    },
    {
     "data": {
      "image/png": "[encoded data removed]",
      "text/plain": [
       "<Figure size 432x288 with 1 Axes>"
      ]
     },
     "metadata": {
      "needs_background": "light"
     },
     "output_type": "display_data"
    }
   ],
   "source": [
    "plt.figure(figsize=(10,8))\n",
    "total_trade.plot(x='Year',stacked=False,kind='bar',width=0.9,align='center')\n",
    "plt.tick_params(rotation=45)\n",
    "plt.title('IMPORTS VS EXPORT')\n",
    "plt.xlabel('Years',fontsize=12)\n",
    "plt.ylabel('Amount of Trade',fontsize=12)\n",
    "plt.show()"
   ]
  },
  {
   "cell_type": "markdown",
   "id": "3b5b1230",
   "metadata": {},
   "source": [
    "# Conclusion:-                                                                                                                                -- Indian Exports in terms of count are more than the Imports                            -- But Indian Imports amount outnumber Exports                                                -- That means India is Exporting less cost product and Importing high cost products like jewellery,petroleum products ,arms etc                                              -- India is in Trade Deficit and need to reduce the burden on exchequer                                                                                                                                      --India need to start increasing the Exports and reduce Imports                                                                                                "
   ]
  },
  {
   "cell_type": "code",
   "execution_count": null,
   "id": "d0e6c762",
   "metadata": {},
   "outputs": [],
   "source": []
  }
 ],
 "metadata": {
  "kernelspec": {
   "display_name": "Python 3 (ipykernel)",
   "language": "python",
   "name": "python3"
  },
  "language_info": {
   "codemirror_mode": {
    "name": "ipython",
    "version": 3
   },
   "file_extension": ".py",
   "mimetype": "text/x-python",
   "name": "python",
   "nbconvert_exporter": "python",
   "pygments_lexer": "ipython3",
   "version": "3.9.7"
  }
 },
 "nbformat": 4,
 "nbformat_minor": 5
}
